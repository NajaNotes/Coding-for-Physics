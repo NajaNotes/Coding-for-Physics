{
 "cells": [
  {
   "cell_type": "markdown",
   "metadata": {},
   "source": [
    "# Norms\n",
    "\n",
    "These are also called lengths, i.e. L$_2$-norms, for vectors $x = (x_1,...,x_n)$.\n",
    "\n",
    "The most important ones are L$_1$-norms, L$_2$-norms and L$_\\infty$-norms, as these are the simplest."
   ]
  },
  {
   "cell_type": "code",
   "execution_count": 1,
   "metadata": {},
   "outputs": [],
   "source": [
    "import numpy as np\n",
    "from numpy import linalg as la"
   ]
  },
  {
   "cell_type": "markdown",
   "metadata": {},
   "source": [
    "NumPy can calculate the different types of norms using the linear algebra package within the NumPy package using the following code:\n",
    "$$la.norm(A,i)$$\n",
    "where i is some positive integer and represents the corresponding L$_i$-norm is being used on the matrix A."
   ]
  },
  {
   "cell_type": "code",
   "execution_count": 2,
   "metadata": {},
   "outputs": [
    {
     "name": "stdout",
     "output_type": "stream",
     "text": [
      "Numpy L₁-norm = 2.4585705710016366\n",
      "Numpy L₂-norm = 2.063925562261973\n"
     ]
    }
   ],
   "source": [
    "A = np.random.rand(3,4)\n",
    "# Numpy calculation of norm\n",
    "print('Numpy L\\u2081-norm =',la.norm(A,1))\n",
    "# Numpy calculation of norm\n",
    "print('Numpy L\\u2082-norm =',la.norm(A,2))"
   ]
  },
  {
   "cell_type": "markdown",
   "metadata": {},
   "source": [
    "## L$_2$-norm\n",
    "\n",
    "This is the one that you would be most familiar with because this is:\n",
    "\n",
    "$$||x||_2 = |x| = \\sqrt{x_1 ^2+...+x_n ^2}$$"
   ]
  },
  {
   "cell_type": "code",
   "execution_count": 3,
   "metadata": {},
   "outputs": [],
   "source": [
    "# This uses row vector\n",
    "def L2norm(x):\n",
    "    # Calculate the size of the array\n",
    "    n = x.shape[1]\n",
    "    sum = 0\n",
    "    row = range(n)\n",
    "    for i in row:\n",
    "        sum+=x[0,i]*x[0,i]\n",
    "    norm = np.sqrt(sum)\n",
    "    return norm"
   ]
  },
  {
   "cell_type": "code",
   "execution_count": 4,
   "metadata": {},
   "outputs": [
    {
     "name": "stdout",
     "output_type": "stream",
     "text": [
      "x =  [[0.943818   0.1092016  0.65300731 0.28088572 0.98138354]]\n",
      "|x| =  1.5398527212569622\n"
     ]
    }
   ],
   "source": [
    "x = np.random.rand(1,5)\n",
    "print('x = ',x)\n",
    "print('|x| = ', L2norm(x))"
   ]
  },
  {
   "cell_type": "markdown",
   "metadata": {},
   "source": [
    "For an mxn matrix A this is calculated by:\n",
    "$$||A||_2 = \\sup_{x\\neq0}\\frac{||Ax||_2}{||x||_2} = \\sqrt{\\lambda_{max}}$$\n",
    "\n",
    "where $\\lambda_{max}$ is the maximum eigenvalue for the matrix A$^T$A. This calculates the maximum "
   ]
  },
  {
   "cell_type": "markdown",
   "metadata": {},
   "source": [
    "## L$_1$-norm\n",
    "\n",
    "This is the maximum of the sums of the absolute values of each column\n",
    "$$||A||_1 = max_j \\sum_{i=1}^{m}|a_{ij}|$$\n",
    "where A is an mxn matrix"
   ]
  },
  {
   "cell_type": "code",
   "execution_count": 5,
   "metadata": {},
   "outputs": [],
   "source": [
    "def L1norm(A):\n",
    "    n = A.shape[0]\n",
    "    m = A.shape[1]\n",
    "    row = range(n)\n",
    "    col = range(m)\n",
    "    sum = 0\n",
    "    B = np.empty([1,m])\n",
    "    Amax = 0\n",
    "    # Ensures that columns are summed\n",
    "    for j in col:\n",
    "        for i in row:\n",
    "            # Sums absolute value of each element in each individual column \n",
    "            sum = sum + np.abs(A[i][j])\n",
    "            # Assigns value in array of sums (in B)\n",
    "            B[0,j] = sum\n",
    "        sum = 0\n",
    "        # Checks max value in array of sums \n",
    "        if Amax <= B[0,j]:\n",
    "            Amax = B[0,j]\n",
    "    return Amax"
   ]
  },
  {
   "cell_type": "code",
   "execution_count": 6,
   "metadata": {},
   "outputs": [
    {
     "name": "stdout",
     "output_type": "stream",
     "text": [
      "A : \n",
      " [[0.73089406 0.67221091 0.99617786]\n",
      " [0.86610787 0.04481732 0.91954939]\n",
      " [0.42999334 0.9628566  0.77043984]]\n",
      "Calculated L₁-norm =  2.686167092519779\n",
      "NumPy L₁-norm =  2.686167092519779\n"
     ]
    }
   ],
   "source": [
    "A = np.random.rand(3,3)\n",
    "\n",
    "print('A : \\n',A)\n",
    "print('Calculated L\\u2081-norm = ',L1norm(A))\n",
    "print('NumPy L\\u2081-norm = ',la.norm(A,1))"
   ]
  },
  {
   "cell_type": "markdown",
   "metadata": {},
   "source": [
    "## L$_{\\infty}$-norm\n",
    "\n",
    "This is the maximum of the sums of the absolute values of each row\n",
    "$$||A||_{\\infty} = max_i \\sum_{j=1}^{m}|a_{ij}|$$\n",
    "where A is an mxn matrix"
   ]
  },
  {
   "cell_type": "code",
   "execution_count": 7,
   "metadata": {},
   "outputs": [],
   "source": [
    "def LInfiniteNorm(A):\n",
    "    n = A.shape[0]\n",
    "    m = A.shape[1]\n",
    "    row = range(n)\n",
    "    col = range(m)\n",
    "    sum = 0\n",
    "    B = np.empty([1,n])\n",
    "    Amax = 0\n",
    "    # Ensures that rows are summed\n",
    "    for i in row:\n",
    "        for j in col:\n",
    "            # Sums absolute value of each element in each row \n",
    "            sum = sum + np.abs(A[i][j])\n",
    "            # Assigns value in array of sums (in B)\n",
    "            B[0,i] = sum\n",
    "        sum = 0\n",
    "        # Checks max value in array of sums \n",
    "        if Amax <= B[0,i]:\n",
    "            Amax = B[0,i]\n",
    "    return Amax"
   ]
  },
  {
   "cell_type": "code",
   "execution_count": 8,
   "metadata": {},
   "outputs": [
    {
     "name": "stdout",
     "output_type": "stream",
     "text": [
      "A : \n",
      " [[0.3038254  0.99956489 0.77752225]\n",
      " [0.06244183 0.97899153 0.20002193]\n",
      " [0.41437087 0.34900257 0.66205926]]\n",
      "Calculated L-norm =  2.0809125361414877\n",
      "NumPy L-norm =  2.0809125361414877\n"
     ]
    }
   ],
   "source": [
    "A = np.random.rand(3,3)\n",
    "\n",
    "print('A : \\n',A)\n",
    "print('Calculated L-norm = ',LInfiniteNorm(A))\n",
    "print('NumPy L-norm = ',la.norm(A,np.inf))"
   ]
  },
  {
   "cell_type": "code",
   "execution_count": null,
   "metadata": {},
   "outputs": [],
   "source": []
  }
 ],
 "metadata": {
  "kernelspec": {
   "display_name": "Python 3",
   "language": "python",
   "name": "python3"
  },
  "language_info": {
   "codemirror_mode": {
    "name": "ipython",
    "version": 3
   },
   "file_extension": ".py",
   "mimetype": "text/x-python",
   "name": "python",
   "nbconvert_exporter": "python",
   "pygments_lexer": "ipython3",
   "version": "3.7.4"
  }
 },
 "nbformat": 4,
 "nbformat_minor": 2
}
