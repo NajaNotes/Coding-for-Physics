{
 "cells": [
  {
   "cell_type": "markdown",
   "metadata": {},
   "source": [
    "# Numerical Methods of Integration\n",
    "There are many methods of numerical integration to solve definite integrals of the form$$ I = \\int^b_a f(x)\\,dx$$\n",
    "\n",
    "We each method we will look at we break the integral up into $N$ strips of width $\\Delta x$. Each strip spans $x_i$ to $x_{i+1} = x_i + \\Delta x$, with $x_0 = a$ and $x_N = b$. For each strip we approximate the integral with $I_i$ and our numerical result for the entire integral is given by\n",
    "\n",
    "$$I_{num} = \\sum_{i=0}^{N-1} I_i$$"
   ]
  },
  {
   "cell_type": "markdown",
   "metadata": {},
   "source": [
    "## Contents\n",
    " 1. Midpoint Integration\n",
    " 2. Trapezoidal Integration\n",
    " 3. Simpson's rule\n",
    " 4. Boole's rule\n",
    " 5. Transforming Integrals\n",
    "  - Improper Integrals\n",
    "  - Integrand with a Singularity\n",
    " 6. Runge-Kutta 4 ODE Integration"
   ]
  },
  {
   "cell_type": "code",
   "execution_count": 1,
   "metadata": {},
   "outputs": [],
   "source": [
    "import numpy as np\n",
    "import matplotlib.pyplot as plt\n",
    "\n",
    "plt.rcParams[\"figure.figsize\"] = (15,10)"
   ]
  },
  {
   "cell_type": "markdown",
   "metadata": {},
   "source": [
    "## 1. Midpoint Integration\n",
    "This method involves breaking up the integration into rectangular strips with the height decided by where the middle of the top of the strip meets the function. The area of each strip is given by \n",
    "$$I_i = \\Delta x f(x_i + \\Delta x/2)$$"
   ]
  },
  {
   "cell_type": "code",
   "execution_count": 2,
   "metadata": {},
   "outputs": [],
   "source": [
    "def MidpointIntegrate(f, a, b, n):\n",
    "    dx = (b-a)/n\n",
    "    xi = a\n",
    "    i = 0\n",
    "    area = 0\n",
    "    while i < n:\n",
    "        if(plotMethod):\n",
    "            rectangle = plt.Rectangle((xi, 0), dx, f(xi+dx/2), fc='None',ec=\"red\")\n",
    "            plt.gca().add_patch(rectangle)\n",
    "            \n",
    "        # The next line is the midpoint rule    \n",
    "        area += dx * f(xi+dx/2)\n",
    "        xi += dx\n",
    "        i += 1\n",
    "    return area"
   ]
  },
  {
   "cell_type": "code",
   "execution_count": 3,
   "metadata": {},
   "outputs": [],
   "source": [
    "def MidpointIntegratePlot(f, a, b, n, plotMethod=False):\n",
    "    dx = (b-a)/n\n",
    "    xi = a\n",
    "    i = 0\n",
    "    area = 0\n",
    "    while i < n:\n",
    "        if(plotMethod):\n",
    "            rectangle = plt.Rectangle((xi, 0), dx, f(xi+dx/2), fc='None',ec=\"red\")\n",
    "            plt.gca().add_patch(rectangle)\n",
    "            \n",
    "        # The next line is the midpoint rule    \n",
    "        area += dx * f(xi+dx/2)\n",
    "        xi += dx\n",
    "        i += 1\n",
    "    \n",
    "    if(plotMethod):\n",
    "        x = np.linspace(a,b,100)\n",
    "        y = f(x)\n",
    "        plt.plot(x,y);\n",
    "    return area"
   ]
  },
  {
   "cell_type": "markdown",
   "metadata": {},
   "source": [
    "## 2. Trapezoidal Integration\n",
    "This uses trapezoids to integrate the area under the function rather than rectngles. The formula for trapezoidal integration is given by:\n",
    "\n",
    "$$ I_i = \\frac{\\Delta x}{2} \\left[ f(x_i) + f(x_{i+1}) \\right] $$"
   ]
  },
  {
   "cell_type": "code",
   "execution_count": 4,
   "metadata": {},
   "outputs": [],
   "source": [
    "def TrapezoidalIntegrate(f, a, b, n):\n",
    "    dx = (b-a)/n\n",
    "    xi = a\n",
    "    i = 0\n",
    "    area = 0\n",
    "    while i < n:\n",
    "        if(plotMethod):\n",
    "            arr1 = [xi, xi+dx];\n",
    "            arr2 = [f(xi), f(xi+dx)]\n",
    "            \n",
    "            trapezoid = plt.Polygon([(xi, 0), *zip(arr1, arr2), (xi+dx, 0)], fc=\"None\", ec=\"red\")\n",
    "            plt.gca().add_patch(trapezoid)\n",
    "            \n",
    "        # The next line is the trapezoidal rule   \n",
    "        area += dx/2 * (f(xi) + f(xi+dx))\n",
    "        xi += dx\n",
    "        i += 1\n",
    "    return area"
   ]
  },
  {
   "cell_type": "code",
   "execution_count": 5,
   "metadata": {},
   "outputs": [],
   "source": [
    "def TrapezoidalIntegratePlot(f, a, b, n, plotMethod=False):\n",
    "    dx = (b-a)/n\n",
    "    xi = a\n",
    "    i = 0\n",
    "    area = 0\n",
    "    while i < n:\n",
    "        if(plotMethod):\n",
    "            arr1 = [xi, xi+dx];\n",
    "            arr2 = [f(xi), f(xi+dx)]\n",
    "            \n",
    "            trapezoid = plt.Polygon([(xi, 0), *zip(arr1, arr2), (xi+dx, 0)], fc=\"None\", ec=\"red\")\n",
    "            plt.gca().add_patch(trapezoid)\n",
    "            \n",
    "        # The next line is the trapezoidal rule   \n",
    "        area += dx/2 * (f(xi) + f(xi+dx))\n",
    "        xi += dx\n",
    "        i += 1\n",
    "    \n",
    "    if(plotMethod):\n",
    "        x = np.linspace(a,b,100)\n",
    "        y = f(x)\n",
    "        plt.plot(x,y);\n",
    "    return area"
   ]
  },
  {
   "cell_type": "markdown",
   "metadata": {},
   "source": [
    "## 3. Simpsons' rule\n",
    "Simpson's rule fits a quadratic to each strip of the integrand. The equation for the quadratic can be found by using Lagrange polynomial formula, using values of the function at the left, middle and right of the strip. The resulting formula for the integral of each strip is:\n",
    "\n",
    "$$ I_i = \\frac{\\Delta x}{6} \\left[f(x_i) + 4 f((x_i + x_{i+1})/2) + f(x_{i+1}) \\right] $$"
   ]
  },
  {
   "cell_type": "code",
   "execution_count": 6,
   "metadata": {},
   "outputs": [],
   "source": [
    "def SimpsonsIntegrate(f, a, b, N, plotMethod=False):\n",
    "    dx = (b-a)/N\n",
    "    xi = a\n",
    "    area = 0\n",
    "    i = 0\n",
    "    while i < N:\n",
    "        # The below line applies Simpson's rule\n",
    "        area += dx/6*(f(xi) + 4*f((2*xi+dx)/2) + f(xi+dx))\n",
    "        \n",
    "        xi += dx\n",
    "        i += 1        \n",
    "    return area"
   ]
  },
  {
   "cell_type": "code",
   "execution_count": 7,
   "metadata": {},
   "outputs": [],
   "source": [
    "def SimpsonsIntegratePlot(f, a, b, N, plotMethod=False):\n",
    "    dx = (b-a)/N\n",
    "    xi = a\n",
    "    area = 0\n",
    "    i = 0\n",
    "    while i < N:\n",
    "        if(plotMethod):\n",
    "            x1 = xi\n",
    "            x2 = x1 + dx\n",
    "            x3 = (x1+x2)/2 \n",
    "\n",
    "            f1 = f(x1)\n",
    "            f2 = f(x2)\n",
    "            f3 = f(x3)\n",
    "\n",
    "            LagrangePoly\n",
    "            x = np.linspace(x1, x2, 100)\n",
    "            y = LagrangePoly(x, np.array([[x1, f1], [x2, f2], [x3, f3]]))\n",
    "            plt.plot(x,y , color='red')\n",
    "            plt.vlines(xi, 0, f1 , color= 'red')\n",
    "        \n",
    "        # The below line applies Simpson's rule\n",
    "        area += dx/6*(f(xi) + 4*f((2*xi+dx)/2) + f(xi+dx))\n",
    "        \n",
    "        xi += dx\n",
    "        i += 1\n",
    "        \n",
    "    if(plotMethod):\n",
    "        plt.vlines(b, 0, f(b) , color= 'red')\n",
    "        x = np.linspace(a,b,100)\n",
    "        y = f(x)\n",
    "        plt.plot(x,y);\n",
    "        \n",
    "    return area"
   ]
  },
  {
   "cell_type": "markdown",
   "metadata": {},
   "source": [
    "## 4. Boole's rule\n",
    "Fitting the integrand to a quintic polynomial results in Boole's rule for integration. In the lecture the formula for Boole's rule was given as\n",
    "$$\\int_{a}^{b}f(x)dx \\simeq \\frac{2\\Delta x}{45}(7𝑓_0+32𝑓_1+12𝑓_2+32𝑓_3+7𝑓_4) $$\n",
    "\n",
    " \n",
    "where  $\\Delta𝑥$ = (𝑏−𝑎)/4 , and  $𝑓_𝑖=𝑓(𝑎+𝑖\\Delta𝑥)$ ."
   ]
  },
  {
   "cell_type": "code",
   "execution_count": 8,
   "metadata": {},
   "outputs": [],
   "source": [
    "def BooleIntegration(f, a, b, N):\n",
    "    dx = (b-a)/N\n",
    "    xi = a\n",
    "    i = 0\n",
    "    area = 0\n",
    "    \n",
    "    while i < N/4:\n",
    "        area += 2*dx/45 * (7*f(xi) + 32*f(xi + dx) + 12*f(xi + 2*dx) + 32*f(xi + 3*dx) + 7*f(xi + 4*dx) )\n",
    "        xi += 4*dx\n",
    "        i  += 1\n",
    "    return area"
   ]
  },
  {
   "cell_type": "markdown",
   "metadata": {},
   "source": [
    "## Transforming Integrands\n",
    "### - Improper integrals\n",
    "We look at numerically evaluating indefinite integrals of the form\n",
    "\n",
    "$$ \\int^b_a f(x)\\, dx$$\n",
    "where $a$ or $b$ or both are infinite. \n",
    "\n",
    "One method is to transform the integral by using a change of variables $x = t^{-1}$ giving the result\n",
    "\n",
    "$$ \\int_a^b f(x)\\, dx = \\int^{1/a}_{1/b} t^{-2} f(t^{-1})\\, dt$$\n",
    "which holds so long as $a,b > 0$."
   ]
  },
  {
   "cell_type": "markdown",
   "metadata": {},
   "source": [
    "### Example \n",
    "Numerically evaluate\n",
    "\n",
    "$$ \\int^\\infty_0 \\frac{1}{(x+1)^3}\\,dx$$"
   ]
  },
  {
   "cell_type": "code",
   "execution_count": 14,
   "metadata": {},
   "outputs": [
    {
     "name": "stdout",
     "output_type": "stream",
     "text": [
      "Solution of finite domain = 0.3750000002050519\n",
      "Solution of infinite domain = 0.12499999987566962\n",
      "Numerical solution = 0.5000000000807215\n",
      "Analytical solution = 0.5\n"
     ]
    }
   ],
   "source": [
    "# Define function to be integrated \n",
    "def g(x):\n",
    "    return 1/((x+1)**3)\n",
    "\n",
    "# First integral finite over the interval (0,1)\n",
    "p1 = SimpsonsIntegrate(g, 0, 1, 100)\n",
    "print(\"Solution of finite domain =\",p1)\n",
    "\n",
    "# Redefine function for infinite domain\n",
    "def gi(t):\n",
    "    return t/((t+1)**3)\n",
    "\n",
    "# Solution to infinite integral over the interval (1,infinity)\n",
    "p2 = SimpsonsIntegrate(gi, 0, 1, 100)\n",
    "print(\"Solution of infinite domain =\",p2)\n",
    "print(\"Numerical solution =\",p1+p2)\n",
    "\n",
    "\n",
    "# Using the substitution method, the analytical solution is found\n",
    "print(\"Analytical solution =\", 0.5)"
   ]
  },
  {
   "cell_type": "markdown",
   "metadata": {},
   "source": [
    "### - Integrand with a Singularity\n",
    "We look at numerically evaluating the indefinite integral with a singularity in the integrand. By using a change of variables on $f(x)$\n",
    "$$ \\int_0^1 \\frac{f(x)}{x^\\alpha} dx = \\frac{1}{\\alpha} \\int_0^1 f(t^{1/\\alpha}) t^{(1-2\\alpha)/\\alpha}dt$$\n",
    "which uses $t = x^\\alpha$. This identity holds when $0 < \\alpha < 1$ and $f(x)$ is continous on $[0,1]$."
   ]
  },
  {
   "cell_type": "markdown",
   "metadata": {},
   "source": [
    "### Example\n",
    "Let$$I = \\int^1_0 \\frac{\\cos(10x)}{x^{1/2}}\\,dx $$\n",
    "Plot the integrand in the range $[0,1]$, use a grid and label the axes."
   ]
  },
  {
   "cell_type": "code",
   "execution_count": 12,
   "metadata": {},
   "outputs": [
    {
     "name": "stderr",
     "output_type": "stream",
     "text": [
      "C:\\Users\\legom\\AppData\\Local\\Continuum\\anaconda3\\lib\\site-packages\\ipykernel_launcher.py:2: RuntimeWarning: divide by zero encountered in true_divide\n",
      "  \n"
     ]
    },
    {
     "data": {
      "image/png": "[encoded data removed]",
      "text/plain": [
       "<Figure size 432x288 with 1 Axes>"
      ]
     },
     "metadata": {
      "needs_background": "light"
     },
     "output_type": "display_data"
    }
   ],
   "source": [
    "def Ix(x):\n",
    "    k = (np.cos(10*x))/(x**(1/2))\n",
    "    return k\n",
    "\n",
    "# x-values\n",
    "x = np.linspace(0,1,1000)\n",
    "\n",
    "plt.plot(x,Ix(x))\n",
    "plt.grid(True)\n",
    "plt.xlim(0,1)\n",
    "plt.ylim(-2.5,20)\n",
    "\n",
    "# Labelling axes\n",
    "plt.xlabel('x')\n",
    "plt.ylabel('y');"
   ]
  },
  {
   "cell_type": "code",
   "execution_count": 15,
   "metadata": {},
   "outputs": [
    {
     "data": {
      "image/png": "[encoded data removed]",
      "text/plain": [
       "<Figure size 432x288 with 1 Axes>"
      ]
     },
     "metadata": {
      "needs_background": "light"
     },
     "output_type": "display_data"
    }
   ],
   "source": [
    "# Transformed integrand\n",
    "def It(t):\n",
    "    y = 2*(np.cos(10*t**2))\n",
    "    return y\n",
    "\n",
    "# x-values\n",
    "x = np.linspace(0,1,1000)\n",
    "\n",
    "plt.plot(x,It(x))\n",
    "plt.grid(True)\n",
    "plt.xlim(0,1)\n",
    "plt.ylim(-2.5,20)\n",
    "\n",
    "# Labelling axes\n",
    "plt.xlabel('x')\n",
    "plt.ylabel('y');"
   ]
  },
  {
   "cell_type": "markdown",
   "metadata": {},
   "source": [
    "### 6. Runge-Kutta 4 ODE Integration\n",
    "This uses the Runge-Kutta 4 method to calculate the numerical solution for the function over each integral "
   ]
  },
  {
   "cell_type": "code",
   "execution_count": 17,
   "metadata": {},
   "outputs": [],
   "source": [
    "def RK4Integrate(f,a,b,N):\n",
    "    area = 0\n",
    "    dx = (b-a)/N\n",
    "    xi = a\n",
    "    yi = 0\n",
    "    \n",
    "    r = np.arange(a,b+dx,dx)\n",
    "    for xi in r:\n",
    "        k1 = dx*f(xi,yi)\n",
    "        k2 = dx*f(xi + 0.5*dx, yi + 0.5*k1)\n",
    "        k3 = dx*f(xi + 0.5*dx, yi + 0.5*k2)\n",
    "        k4 = dx*f(xi + dx, yi + k3)\n",
    "        area += (1/6)*(k1 + 2*k2 + 2*k3 + k4)\n",
    "        \n",
    "    xi += dx\n",
    "    yi += (1/6)*(k1 + 2*k2 + 2*k3 + k4)\n",
    "    return area"
   ]
  },
  {
   "cell_type": "code",
   "execution_count": null,
   "metadata": {},
   "outputs": [],
   "source": []
  }
 ],
 "metadata": {
  "kernelspec": {
   "display_name": "Python 3",
   "language": "python",
   "name": "python3"
  },
  "language_info": {
   "codemirror_mode": {
    "name": "ipython",
    "version": 3
   },
   "file_extension": ".py",
   "mimetype": "text/x-python",
   "name": "python",
   "nbconvert_exporter": "python",
   "pygments_lexer": "ipython3",
   "version": "3.7.4"
  }
 },
 "nbformat": 4,
 "nbformat_minor": 2
}
