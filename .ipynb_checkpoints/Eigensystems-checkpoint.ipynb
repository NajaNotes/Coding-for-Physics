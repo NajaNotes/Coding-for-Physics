{
 "cells": [
  {
   "cell_type": "markdown",
   "metadata": {},
   "source": [
    "# Eigensystems\n",
    "\n",
    "This file will discuss the calculation of eigenvalues for symmetric positive-definite matrices (matrices with positive eigenvalues that eaqual their transpose).\n"
   ]
  },
  {
   "cell_type": "code",
   "execution_count": 2,
   "metadata": {},
   "outputs": [],
   "source": [
    "import numpy as np\n",
    "from numpy import linalg as la"
   ]
  },
  {
   "cell_type": "markdown",
   "metadata": {},
   "source": [
    "## Power method\n",
    "This is a method to calculate the maximum possible eigenvalue.\n",
    "\n",
    "This utilises the fact that any vector, $x$,of dimension n can be made up of the eigenvectors, $e_i$ of some nxn matrix, $B$, with eigenvalues such that $|\\lambda_1|>|\\lambda_2|>...>|\\lambda_n|$.\n",
    "This implies that \n",
    "$$ x_o = \\alpha_1 e_1 + ... + \\alpha_n e_n$$\n",
    "The non-degenerate case is used, $\\lambda_i = \\lambda_j$ iff $i = j$.\n",
    "\n",
    "If $x_o$ is operated on $B$, we get that\n",
    "$$x_1 = Bx_o = \\lambda_1\\alpha_1 e_1 + ... + \\lambda_n\\alpha_n e_n$$\n",
    "If this operation is repeated $k$ times, we get that \n",
    "$$x_k = Bx_{k-1} = {\\lambda_1}^k\\alpha_1 e_1 + ... + {\\lambda_n}^k\\alpha_n e_n \\approx {\\lambda_{1}}^k\\alpha_1e_1$$\n",
    "where $\\lambda_1$ is the maximum eigenvalue and k is extremely large. \n",
    "We ensure that this does not diverge by having that |$\\lambda_1$|>1."
   ]
  },
  {
   "cell_type": "code",
   "execution_count": 4,
   "metadata": {},
   "outputs": [],
   "source": [
    "def Powermethod(A,err):\n",
    "    (m,n) = A.shape\n",
    "    if(m != n):\n",
    "        print(\"Matrix must be square\")\n",
    "        return\n",
    "    \n",
    "    # Create a random initial vector\n",
    "    x = np.random.rand(m)\n",
    "    \n",
    "    lam = 0.1\n",
    "    lamprev = 1\n",
    "    while np.abs(1-lam/lamprev) > err:\n",
    "        Ax      = A@x\n",
    "        lamprev = lam\n",
    "        lam = la.norm(Ax,2)/la.norm(x,2)\n",
    "        x = Ax\n",
    "        \n",
    "    x = x/la.norm(x)\n",
    "    return (lam,x)"
   ]
  },
  {
   "cell_type": "markdown",
   "metadata": {},
   "source": [
    "## Rayleigh-Quotient method\n",
    "This is an adjusted power method with a higher convergence rate making it take less calculations and therefore time.\n",
    "\n",
    "It uses the Rayleigh quotient \n",
    "$$x_{k+1} = \\frac{(x_k)^TBx_k}{(x_k)^Tx_k}$$\n",
    "\n",
    "where $x_k = Bx_{k-1}$. This gives a denominator that is the dot product of $x_k$ with itself giving the square of the L$_2$-norm of $x_k$."
   ]
  },
  {
   "cell_type": "code",
   "execution_count": 29,
   "metadata": {},
   "outputs": [],
   "source": [
    "# Not quite right\n",
    "def RayleighQuotient(A,err):\n",
    "    (m,n) = A.shape\n",
    "    if(m != n):\n",
    "        print(\"Matrix must be square\")\n",
    "        return\n",
    "    \n",
    "    # Create a random initial vector\n",
    "    x = np.random.rand(m)\n",
    "    \n",
    "    lam = 0.1\n",
    "    lamprev = 1\n",
    "    while np.abs(1-lam/lamprev) > err:\n",
    "        Ax      = A@x\n",
    "        lamprev = lam\n",
    "        lam = (np.transpose(x)@(Ax))/(np.transpose(x)@x)\n",
    "        x = Ax\n",
    "        \n",
    "    x = x/la.norm(x)\n",
    "    return (lam,x)"
   ]
  },
  {
   "cell_type": "code",
   "execution_count": 34,
   "metadata": {},
   "outputs": [
    {
     "name": "stdout",
     "output_type": "stream",
     "text": [
      "(4.914804423485397, array([0.59947651, 0.33318793, 0.49528131, 0.5332074 ]))\n"
     ]
    }
   ],
   "source": [
    "print(RayleighQuotient(A,1e-10))"
   ]
  },
  {
   "cell_type": "markdown",
   "metadata": {},
   "source": [
    "## Minimum eigenvalue\n",
    "The minimum eigenvalue can be found using any method that calculates the maximum eigenvalue by using the inverse matrix. \n",
    "\n",
    "This is because the maximum eigenvalue of a matrix $A$ is equal to the inverse of the minimum eigenvalue of the matrix $A^{-1}$ and the same is true by simple observation."
   ]
  },
  {
   "cell_type": "markdown",
   "metadata": {},
   "source": [
    "## Hotelling's Deflation\n",
    "This is used to calculate the the second largest eigenvalue for a matrix $A$. This method only works for symmetric matrices.\n",
    "\n",
    "In this algorthm, the following matrix is constructed\n",
    "\n",
    "$$ B = A - \\lambda_1 e_1\\otimes e_1 = A - \\lambda_1 e_1{e_1}^T$$\n",
    "where $\\lambda_1$ is the largest eigenvalue, $e_1$ is the corresponding (unit normalized) eigenvector, and $\\otimes$ is the outer product.\n",
    "\n",
    "The matrix $B$ has the same eigenvectors as $A$, and the same eigenvalues except the largest one has been replaced by 0. Thus if we use the power method to find the largest eigenvalue of $B$, this will be the second largest eigenvalue of $A$.\n",
    "Thus all proceeding eigenvalues can be computed by repeating this."
   ]
  },
  {
   "cell_type": "markdown",
   "metadata": {},
   "source": [
    "## Example \n",
    "Without using NumPy's la.eig() (or similar functions), find the 4 eigenvalues and eigenvectors of the following matrix. "
   ]
  },
  {
   "cell_type": "code",
   "execution_count": 31,
   "metadata": {},
   "outputs": [],
   "source": [
    "A = np.array([[1.935052353404, 0.887037260957, 1.534235483277, 1.370691224125],\n",
    "       [0.887037260957, 0.81275989158 , 0.610238622918, 0.999150521052],\n",
    "       [1.534235483277, 0.610238622918, 1.562260333538, 1.007843062517],\n",
    "       [1.370691224125, 0.999150521052, 1.007843062517, 1.813258814483]])"
   ]
  },
  {
   "cell_type": "code",
   "execution_count": 7,
   "metadata": {},
   "outputs": [
    {
     "name": "stdout",
     "output_type": "stream",
     "text": [
      "Maximum eigenvalue:         4.914804423491532   Corresponding eigenvector: [0.59947651 0.33318793 0.49528131 0.53320741]\n",
      "Second largerst eigenvalue: 0.850581531867514  Corresponding eigenvector: [-0.30723968  0.38944508 -0.58292359  0.6435343 ]\n",
      "Third largest eigenvalue:   0.21512836394822393  Corresponding eigenvector: [ 0.38116255  0.67390422 -0.34000078 -0.53382364]\n",
      "Minimum eigenvalue:         0.1428170736873445  Corresponding eigenvector: [-0.63319661  0.53215069  0.54707341 -0.1287959 ]\n"
     ]
    }
   ],
   "source": [
    "# Finding the maximum eigenvalue from the power method\n",
    "lmax = Powermethod(A, 1e-10)[0]\n",
    "xmax = Powermethod(A, 1e-10)[1]\n",
    "print('Maximum eigenvalue:        ',lmax,'  Corresponding eigenvector:',xmax)\n",
    "\n",
    "# Finding the second largest eigenvalue from Hotelling's deflation\n",
    "B = A-lmax*np.outer(xmax,xmax)\n",
    "l2 = Powermethod(B, 1e-10)[0]\n",
    "x2 = Powermethod(B, 1e-10)[1]\n",
    "print('Second largerst eigenvalue:',l2,' Corresponding eigenvector:',x2)\n",
    "\n",
    "# Finding the third eigenvalue by repeating Hotelling's deflation\n",
    "C = B-l2*np.outer(x2,x2)\n",
    "l3 = Powermethod(C, 1e-10)[0]\n",
    "x3 = Powermethod(C, 1e-10)[1]\n",
    "print('Third largest eigenvalue:  ',l3,' Corresponding eigenvector:',x3)\n",
    "\n",
    "# Finding the minimum eigenvalue from the power method on the inverse of A \n",
    "lmin = 1/Powermethod(la.inv(A), 1e-10)[0]\n",
    "xmin = Powermethod(la.inv(A), 1e-10)[1]\n",
    "\n",
    "# The minimum value had to be normalised\n",
    "print('Minimum eigenvalue:        ',lmin,' Corresponding eigenvector:',xmin)"
   ]
  },
  {
   "cell_type": "code",
   "execution_count": 9,
   "metadata": {},
   "outputs": [
    {
     "name": "stdout",
     "output_type": "stream",
     "text": [
      "Numpy calculation of eigenvalues in descending order: [4.91480442 0.85058153 0.14281707 0.21512836]\n",
      "Numpy calculation of eigenvectors as column vectors:\n",
      " [[ 0.59947641  0.30724064 -0.63319959 -0.3811686 ]\n",
      " [ 0.33318806 -0.3894447   0.53214542 -0.67389895]\n",
      " [ 0.49528112  0.58292464  0.54707607  0.34000478]\n",
      " [ 0.53320761 -0.64353313 -0.12879172  0.53382343]]\n"
     ]
    }
   ],
   "source": [
    "print('Numpy calculation of eigenvalues in descending order:',la.eig(A)[0])\n",
    "e = la.eig(A)[1]\n",
    "\n",
    "print('Numpy calculation of eigenvectors as column vectors:\\n',la.eig(A)[1])"
   ]
  },
  {
   "cell_type": "code",
   "execution_count": null,
   "metadata": {},
   "outputs": [],
   "source": []
  }
 ],
 "metadata": {
  "kernelspec": {
   "display_name": "Python 3",
   "language": "python",
   "name": "python3"
  },
  "language_info": {
   "codemirror_mode": {
    "name": "ipython",
    "version": 3
   },
   "file_extension": ".py",
   "mimetype": "text/x-python",
   "name": "python",
   "nbconvert_exporter": "python",
   "pygments_lexer": "ipython3",
   "version": "3.7.4"
  }
 },
 "nbformat": 4,
 "nbformat_minor": 2
}
