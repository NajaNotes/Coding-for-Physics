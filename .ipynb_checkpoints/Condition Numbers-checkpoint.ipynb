{
 "cells": [
  {
   "cell_type": "markdown",
   "metadata": {},
   "source": [
    "# Condition Numbers\n",
    "\n",
    "These numbers relate to the change in a result due to a small change in another variable."
   ]
  },
  {
   "cell_type": "code",
   "execution_count": 1,
   "metadata": {},
   "outputs": [],
   "source": [
    "import numpy as np\n",
    "from numpy import linalg as la"
   ]
  },
  {
   "cell_type": "markdown",
   "metadata": {},
   "source": [
    "## Calculation of the condition number\n",
    "\n",
    "The condition number is given the notation $\\kappa$(A) for a given matrix A and is calculated by:\n",
    "$$ \\kappa(A) = ||A||_2||A^{-1}||_2 = \\sqrt{\\frac{\\lambda_{max}}{\\lambda_{min}}}$$\n",
    "\n",
    "where $\\lambda_{max}$ is the maximum eigenvalue of A$^T$A and $\\lambda_{min}$ is the minimum eigenvalue of AA$^T$.\n",
    "\n",
    "This can also be computed using NumPy's linalg function:    \n",
    "$$la.cond(A)$$ "
   ]
  },
  {
   "cell_type": "code",
   "execution_count": 2,
   "metadata": {},
   "outputs": [
    {
     "name": "stdout",
     "output_type": "stream",
     "text": [
      "A : \n",
      " [[0.0110694  0.643466   0.90562246]\n",
      " [0.22100371 0.81895892 0.1269792 ]\n",
      " [0.78244063 0.36379576 0.75362909]]\n",
      "Calculated condition number =  3.0539349142954744\n",
      "NumPy condition number =       3.053934914295474\n"
     ]
    }
   ],
   "source": [
    "A = np.random.rand(3,3)\n",
    "\n",
    "print('A : \\n',A)\n",
    "print('Calculated condition number = ',la.norm(A,2)*la.norm(la.inv(A),2))\n",
    "print('NumPy condition number =      ',la.cond(A))"
   ]
  },
  {
   "cell_type": "markdown",
   "metadata": {},
   "source": [
    "## Ill-conditioned matrices\n",
    "\n",
    "A matrix $A$ is ill-conditioned if the determinant of the matrix is extremely close to zero\n",
    "$$det(A) \\approx 0$$\n",
    "\n",
    "This is a matrix which is close to singular or non-invertible."
   ]
  },
  {
   "cell_type": "markdown",
   "metadata": {},
   "source": [
    "## Sample question\n",
    "\n",
    "### Part A\n",
    "Which of the following three matrices, $A1, A2, A3$, are ill-conditioned. State the reason for your conclusion."
   ]
  },
  {
   "cell_type": "code",
   "execution_count": 3,
   "metadata": {},
   "outputs": [],
   "source": [
    "A1 = np.array([[0.988746460106, 0.351486109477, 0.024911477532, 0.384039749683],\n",
    "       [0.282104657306, 0.239884151775, 0.36170151991 , 0.903082266861],\n",
    "       [0.59333290915 , 0.637178863968, 0.241229214635, 0.685595037901],\n",
    "       [0.013591747828, 0.917926970364, 0.458689093885, 0.157821121254]])\n",
    "\n",
    "A2 = np.array([[ 2.852416473483e-01,  3.803483118694e-01,  2.697704226632e-01,  6.810611849029e-01],\n",
    "       [ 6.622827828376e-01,  6.447943415836e-01,  4.387842058829e-01,  1.530575702376e+00],\n",
    "       [ 3.672130860703e-01,  8.309522079704e-01,  9.975487474007e-01,  5.678296337101e-01],\n",
    "       [ 4.036490000599e-01,  6.865978225967e-06,  8.788095913773e-01, -7.150472427928e-02]])\n",
    "\n",
    "A3 = np.array([[0.131923621844, 0.245316154195, 0.732362341613, 0.957047891764],\n",
    "       [0.91290446184 , 0.512312007959, 0.391938831444, 0.092509684772],\n",
    "       [0.648708523652, 0.608576675797, 0.576773587276, 0.065385122929],\n",
    "       [0.502955480393, 0.084082960221, 0.659487390444, 0.662958739412]])"
   ]
  },
  {
   "cell_type": "markdown",
   "metadata": {},
   "source": [
    "One method of determining which matrix is by determining which matrix has a determinant close to zero:"
   ]
  },
  {
   "cell_type": "code",
   "execution_count": 4,
   "metadata": {},
   "outputs": [
    {
     "name": "stdout",
     "output_type": "stream",
     "text": [
      "determinant of A1 = 0.09005826852913093\n",
      "determinant of A2 = -2.0317563357684786e-10\n",
      "determinant of A3 = -0.08065291344382224\n"
     ]
    }
   ],
   "source": [
    "print('determinant of A1 =',la.det(A1))\n",
    "print('determinant of A2 =',la.det(A2))\n",
    "print('determinant of A3 =',la.det(A3))"
   ]
  },
  {
   "cell_type": "markdown",
   "metadata": {},
   "source": [
    "Another method is by observing the elements of a matrix. \n",
    "\n",
    "$\\textbf{A1}$ has the lowest magnitude of order 10$^{-1}$ which is also the highest order magnitude.\n",
    "\n",
    "$\\textbf{A2}$ has the lowest magnitude of order 10$^{-6}$ and a highest magnitude of order 10$^{0}$ with most elements of order of magnitude 10$^{-1}$.\n",
    "\n",
    "$\\textbf{A3}$ has the lowest magnitude of order 10$^{-1}$ which is also the highest order magnitude.\n",
    "\n",
    "This tells us that $A2$ is the ill-conditioned matrix as it has one element that is very small compared to most elements in $A2$. This implies that $A2$ is close to being singular.\n"
   ]
  },
  {
   "cell_type": "markdown",
   "metadata": {},
   "source": [
    "### Part B\n",
    "With $b = [1,2,3,4]$ and $\\delta b = [0.1,0,0,0]$ for $A2$ and $A3$ calculate the percentage change in $x$ due to a small change in $b$, i.e., calculate\n",
    "\n",
    "$$100\\times\\frac{\\lVert \\delta x_i\\rVert_2}{\\lVert x_i \\rVert_2}\\quad\\text{and}\\quad 100\\times\\frac{\\lVert \\delta b\\rVert_2}{\\lVert b \\rVert_2}$$\n",
    "where $(x_i+\\delta x_i)  = A_i^{-1}(b+\\delta b)$ and $i\\in\\{2,3\\}$."
   ]
  },
  {
   "cell_type": "code",
   "execution_count": 5,
   "metadata": {},
   "outputs": [
    {
     "name": "stdout",
     "output_type": "stream",
     "text": [
      "Percentage change in b:         18.257419 %\n",
      "Percentage change in x for A2:  1958.241815 %\n",
      "Percentage change in x for A3:  30.316536 %\n"
     ]
    }
   ],
   "source": [
    "b = np.array([1,2,3,4])\n",
    "db = np.array([0,1,0,0])\n",
    "# Percentage change in b\n",
    "print('Percentage change in b:         %3f'%(100*(la.norm(db,2)/la.norm(b,2))),'%')\n",
    "# Inverses of A2 and A3\n",
    "INVA2 = np.linalg.inv(A2)\n",
    "INVA3 = np.linalg.inv(A3)\n",
    "# The values for x and the changes in x\n",
    "x2 = np.dot(INVA2,b)\n",
    "dx2 = np.dot(INVA2,db)\n",
    "x3 = np.dot(INVA3,b)\n",
    "dx3 = np.dot(INVA3,db)\n",
    "# For A2, the percentage change in x\n",
    "print('Percentage change in x for A2:  %3f'%(100*(la.norm(dx2,2)/la.norm(x2,2))),'%')\n",
    "# For A3, the percentage change in x\n",
    "print('Percentage change in x for A3:  %3f'%(100*(la.norm(dx3,2)/la.norm(x3,2))),'%')"
   ]
  }
 ],
 "metadata": {
  "kernelspec": {
   "display_name": "Python 3",
   "language": "python",
   "name": "python3"
  },
  "language_info": {
   "codemirror_mode": {
    "name": "ipython",
    "version": 3
   },
   "file_extension": ".py",
   "mimetype": "text/x-python",
   "name": "python",
   "nbconvert_exporter": "python",
   "pygments_lexer": "ipython3",
   "version": "3.7.4"
  }
 },
 "nbformat": 4,
 "nbformat_minor": 2
}
